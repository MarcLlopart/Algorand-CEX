{
 "cells": [
  {
   "cell_type": "code",
   "execution_count": 1,
   "metadata": {},
   "outputs": [],
   "source": [
    "import pandas as pd\n",
    "import numpy as np\n",
    "\n",
    "import matplotlib.pyplot as plt\n",
    "\n",
    "import warnings\n",
    "\n",
    "warnings.filterwarnings('ignore')\n",
    "\n",
    "plt.style.use('ggplot')"
   ]
  },
  {
   "cell_type": "code",
   "execution_count": 2,
   "metadata": {},
   "outputs": [],
   "source": [
    "cex_list = ['Bitmax', 'Binance', 'BingX', 'Bitbox', \n",
    " 'Bitfinex', 'BitGo', 'Bitkub', 'BitPanda',\n",
    " 'Bitrue', 'Bitso', 'Bitstamp', 'Bittrex',\n",
    " 'Bitvavo', 'BitZ', 'BKEX', 'Blockchain.com', \n",
    " 'BTC Markets', 'BTCTurk', 'ByBit', 'Changelly',\n",
    " 'Coinbase', 'Coinex', 'Coinlist', 'CoinSpot',\n",
    " 'Crypto.com', 'Gate.io', 'Hotbit', 'Indodax',\n",
    " 'Koibanx', 'Korbit', 'Kraken', 'Kucoin',\n",
    " 'MEXC', 'Netcoins', 'OkCoin', 'OKX',\n",
    " 'Paribu', 'Phemex', 'ProBit', 'Ripio', \n",
    " 'UpHold', 'Vindax', 'WhiteBIT']\n",
    "\n"
   ]
  },
  {
   "cell_type": "code",
   "execution_count": 13,
   "metadata": {},
   "outputs": [],
   "source": [
    "# Load the data into a DataFrame\n",
    "df = pd.read_csv('CEX_balances/result.csv')\n",
    "\n",
    "# Convert 'dt' column to datetime\n",
    "df['Date'] = pd.to_datetime(df['Date'])\n",
    "\n",
    "# Pivot the DataFrame to have 'entity_name' as columns and 'dt' as the index\n",
    "pivot_df = df.pivot(index='Date', columns='Entity', values='AlgoBalance')\n",
    "\n",
    "# Create a new column for total balance by summing across entities\n",
    "pivot_df['Total'] = pivot_df.sum(axis=1)\n",
    "pivot_df.reset_index(inplace=True)"
   ]
  },
  {
   "cell_type": "code",
   "execution_count": 16,
   "metadata": {},
   "outputs": [],
   "source": [
    "pivot_df.to_csv('data/CEX_balances.csv', index=False)"
   ]
  },
  {
   "cell_type": "code",
   "execution_count": 15,
   "metadata": {},
   "outputs": [],
   "source": [
    "pivot_df['Date'] = pd.to_datetime(pivot_df['Date'])\n",
    "last_date = pivot_df['Date'].max()\n",
    "\n",
    "# Step 3: Get the last day balances\n",
    "last_day_df = pivot_df[pivot_df['Date'] == last_date]\n",
    "\n",
    "# Step 4: Prepare ranking DataFrame\n",
    "ranking_data = {'CEX': [], 'Balance': [], '24h%': [], '7d%': [], '30d%': [], '90d%': []}\n",
    "\n",
    "# Get the list of CEX columns (excluding 'Date')\n",
    "cex_columns = [col for col in pivot_df.columns if col != 'Date']\n",
    "\n",
    "# Step 5: Populate the ranking data\n",
    "for cex in cex_columns:\n",
    "    # Extract the last day balance\n",
    "    balance = last_day_df[cex].values[0]\n",
    "    \n",
    "    # Add CEX name and Balance\n",
    "    ranking_data['CEX'].append(cex.replace(' Balance', ''))\n",
    "    ranking_data['Balance'].append(balance)\n",
    "    \n",
    "    # Calculate 24-hour change\n",
    "    previous_day = last_date - pd.Timedelta(days=1)\n",
    "    previous_day_balance = pivot_df[pivot_df['Date'] == previous_day][cex]\n",
    "    \n",
    "    if not previous_day_balance.empty and previous_day_balance.values[0] != 0:\n",
    "        change_24h = ((balance - previous_day_balance.values[0]) / previous_day_balance.values[0]) * 100\n",
    "    else:\n",
    "        change_24h = None\n",
    "    ranking_data['24h%'].append(change_24h)\n",
    "    \n",
    "    # Calculate percentage changes for 7d, 30d, and 90d\n",
    "    for days in [7, 30, 90]:\n",
    "        past_date = last_date - pd.Timedelta(days=days)\n",
    "        past_balance = pivot_df[pivot_df['Date'] == past_date][cex]\n",
    "        \n",
    "        if not past_balance.empty and past_balance.values[0] != 0:\n",
    "            change = ((balance - past_balance.values[0]) / past_balance.values[0]) * 100\n",
    "        else:\n",
    "            change = None\n",
    "        \n",
    "        ranking_data[f'{days}d%'].append(change)\n",
    "\n",
    "# Step 6: Create the ranking DataFrame\n",
    "ranking_df = pd.DataFrame(ranking_data)\n",
    "\n",
    "# Step 7: Sort the ranking DataFrame by Balance in descending order\n",
    "ranking_df.sort_values(by='Balance', ascending=False, inplace=True)\n",
    "ranking_df.reset_index(drop=True, inplace=True)\n",
    "ranking_df.to_csv('data/CEX_ranking.csv', index=False)"
   ]
  },
  {
   "cell_type": "code",
   "execution_count": null,
   "metadata": {},
   "outputs": [],
   "source": []
  }
 ],
 "metadata": {
  "kernelspec": {
   "display_name": "Python 3",
   "language": "python",
   "name": "python3"
  },
  "language_info": {
   "codemirror_mode": {
    "name": "ipython",
    "version": 3
   },
   "file_extension": ".py",
   "mimetype": "text/x-python",
   "name": "python",
   "nbconvert_exporter": "python",
   "pygments_lexer": "ipython3",
   "version": "3.9.6"
  }
 },
 "nbformat": 4,
 "nbformat_minor": 2
}
